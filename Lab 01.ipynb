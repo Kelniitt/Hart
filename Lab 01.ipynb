{
  "cells": [
    {
      "cell_type": "markdown",
      "metadata": {
        "id": "2xStMLUrFtP4"
      },
      "source": [
        "## Lab 01"
      ]
    },
    {
      "cell_type": "code",
      "execution_count": null,
      "metadata": {
        "id": "w4pCscC2151W"
      },
      "outputs": [],
      "source": [
        "import tensorflow as tf\n",
        "\n",
        "import os, urllib, shutil, pathlib"
      ]
    },
    {
      "cell_type": "markdown",
      "metadata": {
        "id": "57mzCBCLFxKC"
      },
      "source": [
        "We'll Use Kaggle Datasets on Cats v Dogs Cases\n",
        "\n",
        "Our Dataset will be Train and Test"
      ]
    },
    {
      "cell_type": "code",
      "execution_count": null,
      "metadata": {
        "id": "uht_zYDx2rDA"
      },
      "outputs": [],
      "source": [
        "origin = \"https://download.microsoft.com/download/3/E/1/3E1C3F21-ECDB-4869-8368-6DEBA77B919F/\"\n",
        "\n",
        "kaggle = \"kagglecatsanddogs_5340.zip\"\n",
        "\n",
        "origin += kaggle"
      ]
    },
    {
      "cell_type": "code",
      "execution_count": null,
      "metadata": {
        "colab": {
          "base_uri": "https://localhost:8080/"
        },
        "id": "h3n_rpOy27nT",
        "outputId": "481b58e1-03c9-4388-fa1c-98325db78ee1"
      },
      "outputs": [
        {
          "data": {
            "text/plain": [
              "('kagglecatsanddogs_5340.zip', <http.client.HTTPMessage at 0x7de5f6742a70>)"
            ]
          },
          "execution_count": 3,
          "metadata": {},
          "output_type": "execute_result"
        }
      ],
      "source": [
        "urllib.request.urlretrieve(origin, kaggle)"
      ]
    },
    {
      "cell_type": "code",
      "execution_count": null,
      "metadata": {
        "id": "07JycY4E29nI"
      },
      "outputs": [],
      "source": [
        "shutil.unpack_archive(kaggle, '/content', 'zip')"
      ]
    },
    {
      "cell_type": "code",
      "execution_count": null,
      "metadata": {
        "colab": {
          "base_uri": "https://localhost:8080/"
        },
        "id": "11izVyVj2_Li",
        "outputId": "318a085f-0ee5-4f44-bba0-5599b74e997d"
      },
      "outputs": [
        {
          "data": {
            "text/plain": [
              "['Dog', 'Cat']"
            ]
          },
          "execution_count": 5,
          "metadata": {},
          "output_type": "execute_result"
        }
      ],
      "source": [
        "rooter = \"/content/PetImages\"\n",
        "\n",
        "os.listdir(rooter)"
      ]
    },
    {
      "cell_type": "markdown",
      "metadata": {
        "id": "63dYGucPFzxM"
      },
      "source": [
        "Delete Corrupt Images on Our Dataset"
      ]
    },
    {
      "cell_type": "code",
      "execution_count": null,
      "metadata": {
        "colab": {
          "base_uri": "https://localhost:8080/"
        },
        "id": "n6m9Ddtv3B8F",
        "outputId": "2023b98f-a969-4d94-8b07-e4874a00e238"
      },
      "outputs": [
        {
          "data": {
            "text/plain": [
              "(759, 831)"
            ]
          },
          "execution_count": 6,
          "metadata": {},
          "output_type": "execute_result"
        }
      ],
      "source": [
        "def imroot(root):\n",
        "  i = 0\n",
        "  for item in os.listdir(root):\n",
        "    roti = os.path.join(root, item)\n",
        "    try:\n",
        "      inputi = open(roti, \"rb\")\n",
        "      images = tf.compat.as_bytes(\"JFIF\") in inputi.peek(10)\n",
        "    finally:\n",
        "      inputi.close()\n",
        "\n",
        "    if not images:\n",
        "      i += 1\n",
        "      os.remove(roti)\n",
        "  return i\n",
        "\n",
        "cat_lost = imroot(os.path.join(rooter, \"Cat\"))\n",
        "\n",
        "dog_lost = imroot(os.path.join(rooter, \"Dog\"))\n",
        "\n",
        "cat_lost, dog_lost"
      ]
    },
    {
      "cell_type": "code",
      "execution_count": null,
      "metadata": {
        "colab": {
          "base_uri": "https://localhost:8080/"
        },
        "id": "Vf2P3kbf3D5G",
        "outputId": "46dc12dd-c22c-49a1-8279-6b68307cba2f"
      },
      "outputs": [
        {
          "data": {
            "text/plain": [
              "23412"
            ]
          },
          "execution_count": 7,
          "metadata": {},
          "output_type": "execute_result"
        }
      ],
      "source": [
        "cats = len(os.listdir(os.path.join(rooter, \"Cat\")))\n",
        "\n",
        "dogs = len(os.listdir(os.path.join(rooter, \"Dog\")))\n",
        "\n",
        "total_images = cats + dogs\n",
        "\n",
        "total_images"
      ]
    },
    {
      "cell_type": "markdown",
      "metadata": {
        "id": "CNp5Y7NGF2aO"
      },
      "source": [
        "On Total, Our Images Data is 23.412 Images"
      ]
    },
    {
      "cell_type": "markdown",
      "metadata": {
        "id": "HNQAJO4xF419"
      },
      "source": [
        "Generate tf.data.Dataset From Images File in Folder\n",
        "\n",
        "Split it to Train and Test Dataset"
      ]
    },
    {
      "cell_type": "code",
      "execution_count": null,
      "metadata": {
        "id": "zJQzLeTI4tss"
      },
      "outputs": [],
      "source": [
        "from tensorflow.keras.utils import image_dataset_from_directory\n",
        "\n",
        "subset = \"both\"; label = \"binary\"\n",
        "\n",
        "image = (150, 150); split = 0.15; random = 128\n",
        "\n",
        "unseet = 10\n",
        "\n",
        "trainer, tester = image_dataset_from_directory(\n",
        "  rooter,\n",
        "  seed = unseet,\n",
        "  subset = subset,\n",
        "  image_size = image,\n",
        "  label_mode = label,\n",
        "  batch_size = random,\n",
        "  validation_split = split\n",
        ")"
      ]
    },
    {
      "cell_type": "code",
      "execution_count": null,
      "metadata": {
        "colab": {
          "base_uri": "https://localhost:8080/"
        },
        "id": "RvA9TyCr5r6C",
        "outputId": "03efa026-b372-4144-d5ba-3b01494e6f96"
      },
      "outputs": [
        {
          "data": {
            "text/plain": [
              "['Cat', 'Dog']"
            ]
          },
          "execution_count": 9,
          "metadata": {},
          "output_type": "execute_result"
        }
      ],
      "source": [
        "labeler = trainer.class_names\n",
        "\n",
        "labeler"
      ]
    },
    {
      "cell_type": "markdown",
      "metadata": {
        "id": "97Ae9ftdF9Qp"
      },
      "source": [
        "Perform Image Augmentation\n",
        "\n",
        "Using Augmentation Using SolAug Model to Perform On-The-Fly Augmentation Within a Model\n",
        "\n",
        "Perform Caching on Train, Test Dataset to Fasten Model Training"
      ]
    },
    {
      "cell_type": "code",
      "execution_count": null,
      "metadata": {
        "id": "GxIBDNws5Whm"
      },
      "outputs": [],
      "source": [
        "from tensorflow.keras import Model, layers\n",
        "\n",
        "class SolAug(Model):\n",
        "  def __init__(self):\n",
        "    super(SolAug, self).__init__()\n",
        "    self.rotation_range = layers.RandomRotation(0.2)\n",
        "    self.random_zoom = layers.RandomZoom(0.2)\n",
        "    self.random_flip = layers.RandomFlip()\n",
        "\n",
        "  def call(self, inputs):\n",
        "    x = self.rotation_range(inputs)\n",
        "    x = self.random_zoom(x)\n",
        "    y = self.random_flip(x)\n",
        "    return y\n",
        "\n",
        "Solitation = SolAug()"
      ]
    },
    {
      "cell_type": "markdown",
      "metadata": {
        "id": "ZjacW9ooGAna"
      },
      "source": [
        "### Model Spirior"
      ]
    },
    {
      "cell_type": "code",
      "execution_count": null,
      "metadata": {
        "id": "F7mnTqFL628n"
      },
      "outputs": [],
      "source": [
        "from tensorflow.keras import models, layers\n",
        "\n",
        "shape = (150, 150, 3)\n",
        "\n",
        "model = models.Sequential([\n",
        "  layers.Input(shape=shape),\n",
        "  Solitation,\n",
        "  layers.Rescaling(1.0 / 255.0),\n",
        "  layers.Conv2D(16, 3,activation=\"relu\", padding=\"same\"),\n",
        "  layers.MaxPool2D((2, 2)),\n",
        "  layers.Conv2D(32, 3,activation=\"relu\", padding=\"same\"),\n",
        "  layers.MaxPool2D((2, 2)),\n",
        "  layers.Conv2D(64, 3,activation=\"relu\", padding=\"same\"),\n",
        "  layers.MaxPool2D((2, 2)),\n",
        "  layers.Conv2D(128, 3,activation=\"relu\", padding=\"same\"),\n",
        "  layers.MaxPool2D((2, 2)),\n",
        "  layers.Flatten(),\n",
        "  layers.Dense(128, activation=\"relu\"),\n",
        "  layers.Dense(1, activation=\"sigmoid\")\n",
        "])\n",
        "\n",
        "model.compile(optimizer=\"adam\", loss=\"binary_crossentropy\", metrics=['accuracy'])"
      ]
    },
    {
      "cell_type": "code",
      "execution_count": null,
      "metadata": {
        "id": "le6_QOrB7aI1"
      },
      "outputs": [],
      "source": [
        "from tensorflow.keras.callbacks import Callback\n",
        "\n",
        "class MonitorCallback(Callback):\n",
        "  def on_epoch_end(self, epochs, logs={}):\n",
        "    if logs.get(\"accuracy\") >= 0.8 and logs.get(\"val_accuracy\") >= 0.8:\n",
        "      self.model.stop_training = True\n",
        "\n",
        "EarlyCallback = tf.keras.callbacks.EarlyStopping(monitor=\"val_accuracy\", patience=5)\n",
        "\n",
        "callbacks = [MonitorCallback(), EarlyCallback]"
      ]
    },
    {
      "cell_type": "code",
      "execution_count": null,
      "metadata": {
        "id": "SWZMCI9t7pvU"
      },
      "outputs": [],
      "source": [
        "loop = 30\n",
        "\n",
        "hist = model.fit(trainer, epochs=loop, validation_data=tester, callbacks=callbacks)"
      ]
    },
    {
      "cell_type": "code",
      "execution_count": null,
      "metadata": {
        "colab": {
          "base_uri": "https://localhost:8080/"
        },
        "id": "vi6bz-o89tn5",
        "outputId": "b0c06e1c-76c4-42fc-aab7-42dea3ead16c"
      },
      "outputs": [
        {
          "data": {
            "text/plain": [
              "13"
            ]
          },
          "execution_count": 14,
          "metadata": {},
          "output_type": "execute_result"
        }
      ],
      "source": [
        "total_loop = len(hist.history[\"loss\"])\n",
        "\n",
        "total_loop"
      ]
    },
    {
      "cell_type": "markdown",
      "metadata": {
        "id": "WC23v4FmGWVV"
      },
      "source": [
        "### Model Test\n",
        "\n",
        "Testing Model on Train and Test"
      ]
    },
    {
      "cell_type": "code",
      "execution_count": null,
      "metadata": {
        "colab": {
          "base_uri": "https://localhost:8080/"
        },
        "id": "VkVVPvdWLdnX",
        "outputId": "9af6a86f-c3d6-43b1-da2c-2cdb30db05c0"
      },
      "outputs": [
        {
          "data": {
            "text/plain": [
              "[0.3894045948982239, 0.8242624998092651]"
            ]
          },
          "execution_count": 16,
          "metadata": {},
          "output_type": "execute_result"
        }
      ],
      "source": [
        "model.evaluate(trainer, verbose=False)"
      ]
    },
    {
      "cell_type": "code",
      "execution_count": null,
      "metadata": {
        "colab": {
          "base_uri": "https://localhost:8080/"
        },
        "id": "kleYjn_WLfNU",
        "outputId": "25c6af55-27c8-4e85-becf-8ba25c0a9a4d"
      },
      "outputs": [
        {
          "data": {
            "text/plain": [
              "[0.39936280250549316, 0.819139838218689]"
            ]
          },
          "execution_count": 17,
          "metadata": {},
          "output_type": "execute_result"
        }
      ],
      "source": [
        "model.evaluate(tester, verbose=False)"
      ]
    },
    {
      "cell_type": "markdown",
      "metadata": {
        "id": "4ML8C787HA8D"
      },
      "source": [
        "*Our Model Achieves an Impressive 0.81 Average Accuracy on Both Training and Test Datasets*"
      ]
    },
    {
      "cell_type": "markdown",
      "metadata": {
        "id": "wJgyQKmbGayW"
      },
      "source": [
        "Get Helper Plot"
      ]
    },
    {
      "cell_type": "code",
      "execution_count": null,
      "metadata": {
        "id": "q6S92GUAMG7l"
      },
      "outputs": [],
      "source": [
        "if not os.path.exists(\"Helplot.py\"):\n",
        "\n",
        "  giturl = \"https://raw.githubusercontent.com/Kelniit/Hut/refs/heads/main/Helplot.py\"\n",
        "\n",
        "  urllib.request.urlretrieve(giturl, \"Helplot.py\")"
      ]
    },
    {
      "cell_type": "code",
      "execution_count": null,
      "metadata": {
        "colab": {
          "base_uri": "https://localhost:8080/",
          "height": 465
        },
        "id": "uuKkhsJaMIi0",
        "outputId": "bc64f59f-ac68-448c-ca16-e30001e8e12d"
      },
      "outputs": [
        {
          "data": {
            "image/png": "[encoded data removed]",
            "text/plain": [
              "<Figure size 640x480 with 1 Axes>"
            ]
          },
          "metadata": {},
          "output_type": "display_data"
        }
      ],
      "source": [
        "from Helplot import Helplot\n",
        "\n",
        "plot = Helplot(hist)\n",
        "\n",
        "plot.Relplot"
      ]
    },
    {
      "cell_type": "code",
      "execution_count": null,
      "metadata": {
        "colab": {
          "base_uri": "https://localhost:8080/",
          "height": 465
        },
        "id": "Vtt7kfEPMJAw",
        "outputId": "2892236a-c71a-412b-ffe4-8f2b79b7e102"
      },
      "outputs": [
        {
          "data": {
            "image/png": "[encoded data removed]",
            "text/plain": [
              "<Figure size 640x480 with 1 Axes>"
            ]
          },
          "metadata": {},
          "output_type": "display_data"
        }
      ],
      "source": [
        "plot.Falplot"
      ]
    },
    {
      "cell_type": "code",
      "execution_count": null,
      "metadata": {
        "id": "83Q_1Pb8MKAP"
      },
      "outputs": [],
      "source": [
        "ModelFolder = \"/content/Modelite\"\n",
        "\n",
        "model.export(ModelFolder)"
      ]
    },
    {
      "cell_type": "markdown",
      "metadata": {
        "id": "VmTCicNfHFAD"
      },
      "source": [
        "#### `TensorFlow Lite`"
      ]
    },
    {
      "cell_type": "code",
      "execution_count": null,
      "metadata": {
        "colab": {
          "base_uri": "https://localhost:8080/"
        },
        "id": "gwqSkG6ZMOL0",
        "outputId": "9723b0a7-3854-4c31-c8e5-8a1b7b02d736"
      },
      "outputs": [
        {
          "data": {
            "text/plain": [
              "1456232"
            ]
          },
          "execution_count": 23,
          "metadata": {},
          "output_type": "execute_result"
        }
      ],
      "source": [
        "tflite = tf.lite.TFLiteConverter\n",
        "\n",
        "tflite_model = tflite.from_saved_model(ModelFolder)\n",
        "\n",
        "tflite_model.optimizations = [tf.lite.Optimize.DEFAULT]\n",
        "\n",
        "tflite_model.target_spec.supported_ops = [tf.lite.OpsSet.TFLITE_BUILTINS, tf.lite.OpsSet.SELECT_TF_OPS]\n",
        "\n",
        "tflite_model = tflite_model.convert()\n",
        "\n",
        "pathfile = \"HartModel01.tflite\"\n",
        "\n",
        "tflite_model_file = pathlib.Path(pathfile)\n",
        "\n",
        "tflite_model_file.write_bytes(tflite_model)"
      ]
    },
    {
      "cell_type": "code",
      "execution_count": null,
      "metadata": {
        "colab": {
          "base_uri": "https://localhost:8080/"
        },
        "id": "w7eR9tVfMMIE",
        "outputId": "675e4544-c11d-444e-a1b7-6981b772c3d5"
      },
      "outputs": [
        {
          "data": {
            "text/plain": [
              "1.3887710571289062"
            ]
          },
          "execution_count": 24,
          "metadata": {},
          "output_type": "execute_result"
        }
      ],
      "source": [
        "os.path.getsize(pathfile) / float(2**20)"
      ]
    },
    {
      "cell_type": "markdown",
      "metadata": {
        "id": "qgXOdVesHHrE"
      },
      "source": [
        "#### `Test TensorFlow Lite Model`"
      ]
    },
    {
      "cell_type": "code",
      "execution_count": null,
      "metadata": {
        "colab": {
          "base_uri": "https://localhost:8080/"
        },
        "id": "hx1Ew7g-Moi7",
        "outputId": "fd762a79-21e8-420e-b2ca-9e661f4c2015"
      },
      "outputs": [
        {
          "data": {
            "text/plain": [
              "{'serving_default': {'inputs': ['keras_tensor'], 'outputs': ['output_0']}}"
            ]
          },
          "execution_count": 25,
          "metadata": {},
          "output_type": "execute_result"
        }
      ],
      "source": [
        "interpreter = tf.lite.Interpreter(model_path=pathfile)\n",
        "\n",
        "interpreter.get_signature_list()"
      ]
    },
    {
      "cell_type": "code",
      "execution_count": null,
      "metadata": {
        "colab": {
          "base_uri": "https://localhost:8080/"
        },
        "id": "hmy4Vw9rMqFb",
        "outputId": "e78da45a-8218-4a2c-ba21-704b40d0a013"
      },
      "outputs": [
        {
          "data": {
            "text/plain": [
              "<tensorflow.lite.python.interpreter.SignatureRunner at 0x7de572195390>"
            ]
          },
          "execution_count": 26,
          "metadata": {},
          "output_type": "execute_result"
        }
      ],
      "source": [
        "lite_interpreter = interpreter.get_signature_runner('serving_default')\n",
        "\n",
        "lite_interpreter"
      ]
    },
    {
      "cell_type": "code",
      "execution_count": null,
      "metadata": {
        "colab": {
          "base_uri": "https://localhost:8080/"
        },
        "id": "hNCOSkwjMqsv",
        "outputId": "e90c56d3-d552-4351-b561-2c2457d1dc31"
      },
      "outputs": [
        {
          "data": {
            "text/plain": [
              "TensorShape([1, 150, 150, 3])"
            ]
          },
          "execution_count": 29,
          "metadata": {},
          "output_type": "execute_result"
        }
      ],
      "source": [
        "dogs = os.listdir(os.path.join(rooter, \"Dog\"))[0]\n",
        "\n",
        "dogs = os.path.join(rooter, \"Dog\", dogs)\n",
        "\n",
        "sample = tf.keras.utils.load_img(dogs, target_size=(150, 150))\n",
        "\n",
        "sample = tf.keras.utils.img_to_array(sample)\n",
        "\n",
        "sample = tf.expand_dims(sample, axis=0)\n",
        "\n",
        "sample = tf.cast(sample / 255.0, tf.float32)\n",
        "\n",
        "sample.shape"
      ]
    },
    {
      "cell_type": "code",
      "execution_count": null,
      "metadata": {
        "colab": {
          "base_uri": "https://localhost:8080/"
        },
        "id": "gDfEB-jQM7Fb",
        "outputId": "8010b21b-8836-4fab-ee1f-a68f072d8d06"
      },
      "outputs": [
        {
          "data": {
            "text/plain": [
              "array([[0.0746466]], dtype=float32)"
            ]
          },
          "execution_count": 31,
          "metadata": {},
          "output_type": "execute_result"
        }
      ],
      "source": [
        "testa = lite_interpreter(keras_tensor=sample)['output_0']\n",
        "\n",
        "testa"
      ]
    },
    {
      "cell_type": "code",
      "execution_count": null,
      "metadata": {
        "colab": {
          "base_uri": "https://localhost:8080/"
        },
        "id": "HEPBIWkMNAGV",
        "outputId": "8e48182d-ea7b-4efe-d954-71e462cae59b"
      },
      "outputs": [
        {
          "data": {
            "text/plain": [
              "(128, 1)"
            ]
          },
          "execution_count": 32,
          "metadata": {},
          "output_type": "execute_result"
        }
      ],
      "source": [
        "test_img, test_label = next(iter(tester))\n",
        "\n",
        "logits = model.predict(test_img, verbose=0)\n",
        "\n",
        "logits.shape"
      ]
    },
    {
      "cell_type": "markdown",
      "metadata": {
        "id": "36Tl1KMdHMjz"
      },
      "source": [
        "#### `TensorFlow Serving`"
      ]
    },
    {
      "cell_type": "code",
      "execution_count": null,
      "metadata": {
        "id": "Z0uqa9fDNEHb"
      },
      "outputs": [],
      "source": [
        "class Outlabel(tf.keras.layers.Layer):\n",
        "  def __init__(self):\n",
        "    super(Outlabel, self).__init__()\n",
        "    self.label = labeler\n",
        "\n",
        "  def call(self, inputs):\n",
        "    tf.config.run_functions_eagerly(True)\n",
        "    logits = tf.cast(tf.round(inputs), tf.int32)\n",
        "    logits = tf.gather(self.label, logits)\n",
        "    return logits"
      ]
    },
    {
      "cell_type": "code",
      "execution_count": null,
      "metadata": {
        "colab": {
          "base_uri": "https://localhost:8080/"
        },
        "id": "LLUV8SaQNb9Z",
        "outputId": "4c286189-5f68-4799-f20d-65e1e034c197"
      },
      "outputs": [
        {
          "data": {
            "text/plain": [
              "<KerasTensor shape=(None, 1), dtype=string, sparse=False, name=keras_tensor_17>"
            ]
          },
          "execution_count": 34,
          "metadata": {},
          "output_type": "execute_result"
        }
      ],
      "source": [
        "input_layer = tf.keras.layers.Input(shape=(150, 150, 3))\n",
        "\n",
        "modular = model(input_layer)\n",
        "\n",
        "output_layer = Outlabel()(modular)\n",
        "\n",
        "modular_server = tf.keras.Model(input_layer, output_layer)\n",
        "\n",
        "modular_server.output"
      ]
    },
    {
      "cell_type": "code",
      "execution_count": null,
      "metadata": {
        "colab": {
          "base_uri": "https://localhost:8080/"
        },
        "id": "hPlDnBXRNf67",
        "outputId": "2705a5b9-c526-42d3-fcdd-98e7168fc7d1"
      },
      "outputs": [
        {
          "data": {
            "text/plain": [
              "array([[b'Dog'],\n",
              "       [b'Cat'],\n",
              "       [b'Cat']], dtype=object)"
            ]
          },
          "execution_count": 36,
          "metadata": {},
          "output_type": "execute_result"
        }
      ],
      "source": [
        "import warnings\n",
        "\n",
        "warnings.filterwarnings(\"ignore\")\n",
        "\n",
        "tester = modular_server.predict(test_img, verbose=False)\n",
        "\n",
        "tester[:3]"
      ]
    },
    {
      "cell_type": "code",
      "execution_count": null,
      "metadata": {
        "id": "AkOM7KbuNmgP"
      },
      "outputs": [],
      "source": [
        "ModelFolder = \"/content/ModelServer\"\n",
        "\n",
        "ModelSerial = \"1\"\n",
        "\n",
        "ModuleFolder = os.path.join(ModelFolder, ModelSerial)\n",
        "\n",
        "modular_server.export(ModuleFolder)"
      ]
    },
    {
      "cell_type": "code",
      "execution_count": null,
      "metadata": {
        "id": "i9BoswKpNyM3"
      },
      "outputs": [],
      "source": [
        "!apt update\n",
        "\n",
        "!apt-get install tensorflow-model-server"
      ]
    },
    {
      "cell_type": "code",
      "execution_count": null,
      "metadata": {
        "id": "XskY3kbqNxgW"
      },
      "outputs": [],
      "source": [
        "os.environ[\"ModelFolder\"] = ModelFolder"
      ]
    },
    {
      "cell_type": "code",
      "execution_count": null,
      "metadata": {
        "id": "Cra3PauENuSo"
      },
      "outputs": [],
      "source": [
        "%%bash --bg\n",
        "nohup tensorflow_model_server \\\n",
        "  --rest_api_port=8501 \\\n",
        "  --model_name=inter_model \\\n",
        "  --model_base_path=\"${ModelFolder}\" > server.log 2>&1"
      ]
    },
    {
      "cell_type": "code",
      "execution_count": null,
      "metadata": {
        "id": "I_iDHe_3NurC"
      },
      "outputs": [],
      "source": [
        "!tail server.log"
      ]
    },
    {
      "cell_type": "code",
      "execution_count": null,
      "metadata": {
        "colab": {
          "base_uri": "https://localhost:8080/"
        },
        "id": "gXXdFNnpNriO",
        "outputId": "050ff5b0-51be-41c7-f272-db6c1f2da068"
      },
      "outputs": [
        {
          "data": {
            "text/plain": [
              "[['Cat'], ['Cat'], ['Cat'], ['Cat'], ['Dog']]"
            ]
          },
          "execution_count": 43,
          "metadata": {},
          "output_type": "execute_result"
        }
      ],
      "source": [
        "import json, requests\n",
        "\n",
        "test_images = test_img.numpy().tolist()\n",
        "\n",
        "url = \"http://127.0.0.1:8501/v1/models/inter_model:predict\"\n",
        "\n",
        "image = json.dumps({\"signature_name\":\"serving_default\", \"instances\":test_images})\n",
        "\n",
        "content = {\"content-type\":\"application/json\"}\n",
        "\n",
        "response = requests.post(url, data=image, headers=content)\n",
        "\n",
        "loader = json.loads(response.text)\n",
        "\n",
        "result = loader[\"predictions\"]\n",
        "\n",
        "result[:5]"
      ]
    }
  ],
  "metadata": {
    "accelerator": "GPU",
    "colab": {
      "gpuType": "T4",
      "provenance": []
    },
    "kernelspec": {
      "display_name": "Python 3",
      "name": "python3"
    },
    "language_info": {
      "name": "python"
    }
  },
  "nbformat": 4,
  "nbformat_minor": 0
}
