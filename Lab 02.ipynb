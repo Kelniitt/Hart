{
  "cells": [
    {
      "cell_type": "markdown",
      "metadata": {
        "id": "YaqGRH2WI-Y0"
      },
      "source": [
        "## Lab 02"
      ]
    },
    {
      "cell_type": "code",
      "execution_count": 1,
      "metadata": {
        "id": "JUb1y4LtYrxp"
      },
      "outputs": [],
      "source": [
        "import tensorflow as tf\n",
        "\n",
        "import tensorflow_datasets as tfds\n",
        "\n",
        "tfds.disable_progress_bar()"
      ]
    },
    {
      "cell_type": "markdown",
      "metadata": {
        "id": "zDqzkZEhakEq"
      },
      "source": [
        "Get Helper Plot"
      ]
    },
    {
      "cell_type": "code",
      "execution_count": 2,
      "metadata": {
        "id": "VNqjvClqZFWH"
      },
      "outputs": [],
      "source": [
        "import urllib, os, pathlib\n",
        "\n",
        "if not os.path.exists(\"Helplot.py\"):\n",
        "\n",
        "  giturl = \"https://raw.githubusercontent.com/Kelniit/Hut/refs/heads/main/Helplot.py\"\n",
        "\n",
        "  urllib.request.urlretrieve(giturl, \"Helplot.py\")"
      ]
    },
    {
      "cell_type": "code",
      "execution_count": 3,
      "metadata": {
        "id": "pEqASYM6JDQ0"
      },
      "outputs": [],
      "source": [
        "if not os.path.exists(\"Confuplot.py\"):\n",
        "\n",
        "  giturl = \"https://raw.githubusercontent.com/Kelniit/Hart/refs/heads/main/Confuplot.py\"\n",
        "\n",
        "  urllib.request.urlretrieve(giturl, \"Confuplot.py\")"
      ]
    },
    {
      "cell_type": "markdown",
      "metadata": {
        "id": "aNHgmxztaWPr"
      },
      "source": [
        "We'll Use TensorFlow Datasets on Cats v Dogs Cases\n",
        "\n",
        "Our Dataset will be Train, Test, Validation"
      ]
    },
    {
      "cell_type": "code",
      "execution_count": null,
      "metadata": {
        "id": "QlwbP2iBZZfF"
      },
      "outputs": [],
      "source": [
        "datafile = \"cats_vs_dogs\"\n",
        "\n",
        "split = [\"train[:10%]\", \"train[80%:90%]\", \"train[90%:]\"]\n",
        "\n",
        "ontrue = True\n",
        "\n",
        "(train, test, valid), info = tfds.load(datafile, split=split, as_supervised=ontrue, with_info=ontrue)"
      ]
    },
    {
      "cell_type": "code",
      "execution_count": 5,
      "metadata": {
        "colab": {
          "base_uri": "https://localhost:8080/"
        },
        "id": "XqGBauTclz27",
        "outputId": "7cbdcde2-e11d-41aa-a1e2-ee3cc58df43a"
      },
      "outputs": [
        {
          "data": {
            "text/plain": [
              "['Cat', 'Dog']"
            ]
          },
          "execution_count": 5,
          "metadata": {},
          "output_type": "execute_result"
        }
      ],
      "source": [
        "labeler = info.features[\"label\"].names\n",
        "\n",
        "labeler = [i.capitalize() for i in labeler]\n",
        "\n",
        "labeler"
      ]
    },
    {
      "cell_type": "code",
      "execution_count": 6,
      "metadata": {
        "colab": {
          "base_uri": "https://localhost:8080/"
        },
        "id": "FOLxjTPQaSsg",
        "outputId": "5dd39c24-472a-4fe9-be92-7496c10f9f90"
      },
      "outputs": [
        {
          "data": {
            "text/plain": [
              "(2326, 2326, 2326)"
            ]
          },
          "execution_count": 6,
          "metadata": {},
          "output_type": "execute_result"
        }
      ],
      "source": [
        "len(train), len(test), len(valid)"
      ]
    },
    {
      "cell_type": "markdown",
      "metadata": {
        "id": "vVFA87amaxXY"
      },
      "source": [
        "### Feature Engineer\n",
        "\n",
        "Perform Reshaping, Shuffle, Batching on Our Dataset"
      ]
    },
    {
      "cell_type": "code",
      "execution_count": 7,
      "metadata": {
        "id": "rB_gt4KBavar"
      },
      "outputs": [],
      "source": [
        "input_shape = (160, 160)\n",
        "\n",
        "inlabel = lambda i, l : (tf.image.resize(i, input_shape) / 255.0, l)\n",
        "\n",
        "batch = 64\n",
        "\n",
        "# Resize, Shuffle, Batching\n",
        "\n",
        "train = train.map(inlabel).shuffle(len(train)).batch(batch).cache()\n",
        "\n",
        "test = test.map(inlabel).batch(batch)\n",
        "\n",
        "valid = valid.map(inlabel).batch(batch)"
      ]
    },
    {
      "cell_type": "markdown",
      "metadata": {
        "id": "0f4AwoNVbPc3"
      },
      "source": [
        "### Model Spirior\n",
        "\n",
        "Fine Tune Mobilenet Base Model to Perform Binary Classification on Cats v Dogs Dataset"
      ]
    },
    {
      "cell_type": "code",
      "execution_count": null,
      "metadata": {
        "id": "LPyHCvGUas5x"
      },
      "outputs": [],
      "source": [
        "from tensorflow.keras.applications import MobileNet\n",
        "\n",
        "import tensorflow.keras.layers as layers\n",
        "\n",
        "inputs = layers.Input((160, 160, 3))\n",
        "\n",
        "intnet = MobileNet(input_tensor=inputs, weights='imagenet', include_top=False)\n",
        "\n",
        "intnet.trainable = False"
      ]
    },
    {
      "cell_type": "code",
      "execution_count": 9,
      "metadata": {
        "id": "pugJ_2MZbaKo"
      },
      "outputs": [],
      "source": [
        "x = layers.GlobalAveragePooling2D()(intnet.output)\n",
        "\n",
        "output = layers.Dense(1, activation='sigmoid')(x)\n",
        "\n",
        "model = tf.keras.Model(inputs, output)"
      ]
    },
    {
      "cell_type": "code",
      "execution_count": 10,
      "metadata": {
        "colab": {
          "base_uri": "https://localhost:8080/"
        },
        "id": "vo9XIMu2dwHP",
        "outputId": "8467524f-0d51-4930-f727-db40c3ff6772"
      },
      "outputs": [
        {
          "data": {
            "text/plain": [
              "<KerasTensor shape=(None, 160, 160, 3), dtype=float32, sparse=False, name=keras_tensor>"
            ]
          },
          "execution_count": 10,
          "metadata": {},
          "output_type": "execute_result"
        }
      ],
      "source": [
        "model.input"
      ]
    },
    {
      "cell_type": "code",
      "execution_count": 11,
      "metadata": {
        "colab": {
          "base_uri": "https://localhost:8080/"
        },
        "id": "9lMKEj6mdxA4",
        "outputId": "4067b019-dc75-475a-cdb3-661dae841828"
      },
      "outputs": [
        {
          "data": {
            "text/plain": [
              "<KerasTensor shape=(None, 1), dtype=float32, sparse=False, name=keras_tensor_87>"
            ]
          },
          "execution_count": 11,
          "metadata": {},
          "output_type": "execute_result"
        }
      ],
      "source": [
        "model.output"
      ]
    },
    {
      "cell_type": "code",
      "execution_count": null,
      "metadata": {
        "id": "189PzSnnbzuB"
      },
      "outputs": [],
      "source": [
        "model.compile(optimizer=\"adam\", loss=\"binary_crossentropy\", metrics=[\"accuracy\"])\n",
        "\n",
        "plot = model.fit(train, validation_data=valid, epochs=5)"
      ]
    },
    {
      "cell_type": "markdown",
      "metadata": {
        "id": "g1Uft4tdcLiI"
      },
      "source": [
        "### Model Test\n",
        "\n",
        "Testing Model on Train, Test and Validation"
      ]
    },
    {
      "cell_type": "code",
      "execution_count": 13,
      "metadata": {
        "colab": {
          "base_uri": "https://localhost:8080/"
        },
        "id": "lKJLjkXscMsG",
        "outputId": "38720d87-f280-4136-f4db-ccb132da5964"
      },
      "outputs": [
        {
          "data": {
            "text/plain": [
              "[0.06912597268819809, 0.9776440262794495]"
            ]
          },
          "execution_count": 13,
          "metadata": {},
          "output_type": "execute_result"
        }
      ],
      "source": [
        "model.evaluate(train, verbose=False)"
      ]
    },
    {
      "cell_type": "code",
      "execution_count": 14,
      "metadata": {
        "colab": {
          "base_uri": "https://localhost:8080/"
        },
        "id": "wfV4YIyDcPw4",
        "outputId": "1a62e5b3-afe1-455f-a4f7-958af2013bef"
      },
      "outputs": [
        {
          "data": {
            "text/plain": [
              "[0.09056378901004791, 0.9643164277076721]"
            ]
          },
          "execution_count": 14,
          "metadata": {},
          "output_type": "execute_result"
        }
      ],
      "source": [
        "model.evaluate(test, verbose=False)"
      ]
    },
    {
      "cell_type": "code",
      "execution_count": 15,
      "metadata": {
        "colab": {
          "base_uri": "https://localhost:8080/"
        },
        "id": "lUBXe8FgcQ6i",
        "outputId": "1bf35435-37e9-4ba6-aec5-09e38d0cac8f"
      },
      "outputs": [
        {
          "data": {
            "text/plain": [
              "[0.07698754966259003, 0.9729148745536804]"
            ]
          },
          "execution_count": 15,
          "metadata": {},
          "output_type": "execute_result"
        }
      ],
      "source": [
        "model.evaluate(valid, verbose=False)"
      ]
    },
    {
      "cell_type": "code",
      "execution_count": 16,
      "metadata": {
        "colab": {
          "base_uri": "https://localhost:8080/",
          "height": 465
        },
        "id": "gkiVeldrcYHZ",
        "outputId": "eff0ac79-de6a-499f-8ece-01e5ff21cf0a"
      },
      "outputs": [
        {
          "data": {
            "image/png": "[encoded data removed]",
            "text/plain": [
              "<Figure size 640x480 with 1 Axes>"
            ]
          },
          "metadata": {},
          "output_type": "display_data"
        }
      ],
      "source": [
        "from Helplot import Helplot\n",
        "\n",
        "rel = Helplot(plot)\n",
        "\n",
        "rel.Relplot"
      ]
    },
    {
      "cell_type": "code",
      "execution_count": 17,
      "metadata": {
        "colab": {
          "base_uri": "https://localhost:8080/",
          "height": 465
        },
        "id": "ivJ2D1hQchwS",
        "outputId": "7e1dc5ac-5088-481d-e973-3b4dadb55070"
      },
      "outputs": [
        {
          "data": {
            "image/png": "[encoded data removed]",
            "text/plain": [
              "<Figure size 640x480 with 1 Axes>"
            ]
          },
          "metadata": {},
          "output_type": "display_data"
        }
      ],
      "source": [
        "rel.Falplot"
      ]
    },
    {
      "cell_type": "markdown",
      "metadata": {
        "id": "_gLobBFmI-Ze"
      },
      "source": [
        "### TensorFlow Lite\n",
        "\n",
        "Deploy Model on TensorFlow Lite & Test TensorFlow Lite Model"
      ]
    },
    {
      "cell_type": "code",
      "execution_count": null,
      "metadata": {
        "id": "79Y8zwO2fyAw"
      },
      "outputs": [],
      "source": [
        "ModelFolder = \"/content/Modelite\"\n",
        "\n",
        "model.export(ModelFolder)"
      ]
    },
    {
      "cell_type": "code",
      "execution_count": 19,
      "metadata": {
        "id": "_ZhW3KDIf1kf"
      },
      "outputs": [],
      "source": [
        "tflite = tf.lite.TFLiteConverter\n",
        "\n",
        "tflite_model = tflite.from_saved_model(ModelFolder)\n",
        "\n",
        "tflite_model.optimizations = [tf.lite.Optimize.DEFAULT]"
      ]
    },
    {
      "cell_type": "code",
      "execution_count": 20,
      "metadata": {
        "colab": {
          "base_uri": "https://localhost:8080/"
        },
        "id": "r-tcLAGhf3n5",
        "outputId": "d213fb8a-702f-48bc-9168-0004b1fd8a3d"
      },
      "outputs": [
        {
          "data": {
            "text/plain": [
              "3382312"
            ]
          },
          "execution_count": 20,
          "metadata": {},
          "output_type": "execute_result"
        }
      ],
      "source": [
        "tflite_model = tflite_model.convert()\n",
        "\n",
        "pathfile = \"HartModel02.tflite\"\n",
        "\n",
        "tflite_model_file = pathlib.Path(pathfile)\n",
        "\n",
        "tflite_model_file.write_bytes(tflite_model)"
      ]
    },
    {
      "cell_type": "code",
      "execution_count": 21,
      "metadata": {
        "colab": {
          "base_uri": "https://localhost:8080/"
        },
        "id": "WgUBrp5QgBGR",
        "outputId": "72db07e3-b8ad-427f-b8a4-352ece9a29e1"
      },
      "outputs": [
        {
          "data": {
            "text/plain": [
              "3.2256240844726562"
            ]
          },
          "execution_count": 21,
          "metadata": {},
          "output_type": "execute_result"
        }
      ],
      "source": [
        "os.path.getsize(pathfile) / float(2**20)"
      ]
    },
    {
      "cell_type": "code",
      "execution_count": 22,
      "metadata": {
        "colab": {
          "base_uri": "https://localhost:8080/"
        },
        "id": "OCwSuHPHgDWI",
        "outputId": "722500bb-550a-4655-d543-c1ce2d43e96a"
      },
      "outputs": [
        {
          "data": {
            "text/plain": [
              "{'serving_default': {'inputs': ['keras_tensor'], 'outputs': ['output_0']}}"
            ]
          },
          "execution_count": 22,
          "metadata": {},
          "output_type": "execute_result"
        }
      ],
      "source": [
        "interpreter = tf.lite.Interpreter(model_path=pathfile)\n",
        "\n",
        "interpreter.get_signature_list()"
      ]
    },
    {
      "cell_type": "code",
      "execution_count": 23,
      "metadata": {
        "colab": {
          "base_uri": "https://localhost:8080/"
        },
        "id": "Ilnna7mSgFPx",
        "outputId": "efadf23d-6d46-4867-846d-37c28b0e296b"
      },
      "outputs": [
        {
          "data": {
            "text/plain": [
              "<tensorflow.lite.python.interpreter.SignatureRunner at 0x7af33d1a1000>"
            ]
          },
          "execution_count": 23,
          "metadata": {},
          "output_type": "execute_result"
        }
      ],
      "source": [
        "lite_interpreter = interpreter.get_signature_runner('serving_default')\n",
        "\n",
        "lite_interpreter"
      ]
    },
    {
      "cell_type": "code",
      "execution_count": 24,
      "metadata": {
        "colab": {
          "base_uri": "https://localhost:8080/"
        },
        "id": "PxYZdxV4hEmk",
        "outputId": "f2174eee-70d3-4866-d10d-c5b000aa9873"
      },
      "outputs": [
        {
          "data": {
            "text/plain": [
              "TensorShape([64, 160, 160, 3])"
            ]
          },
          "execution_count": 24,
          "metadata": {},
          "output_type": "execute_result"
        }
      ],
      "source": [
        "test_images = next(iter(test))\n",
        "\n",
        "test_images[0].shape"
      ]
    },
    {
      "cell_type": "code",
      "execution_count": 25,
      "metadata": {
        "colab": {
          "base_uri": "https://localhost:8080/"
        },
        "id": "hrxr1w55iavI",
        "outputId": "808a2921-187b-495d-a57e-c98867f946ca"
      },
      "outputs": [
        {
          "data": {
            "text/plain": [
              "array([1., 0., 1., 1., 1., 1., 0., 1., 0., 0., 1., 1., 0., 0., 1., 0., 1.,\n",
              "       1., 1., 1., 0., 1., 0., 0., 0., 1., 1., 0., 1., 1., 0., 1., 0., 1.,\n",
              "       0., 1., 0., 0., 0., 0., 0., 0., 1., 0., 1., 0., 1., 0., 0., 0., 0.,\n",
              "       1., 0., 0., 0., 1., 0., 1., 1., 1., 1., 1., 1., 0.], dtype=float32)"
            ]
          },
          "execution_count": 25,
          "metadata": {},
          "output_type": "execute_result"
        }
      ],
      "source": [
        "testa = lite_interpreter(keras_tensor=test_images[0])['output_0']\n",
        "\n",
        "testa = tf.round(testa)\n",
        "\n",
        "logits = tf.reshape(testa, (64, )).numpy()\n",
        "\n",
        "logits"
      ]
    },
    {
      "cell_type": "code",
      "execution_count": 26,
      "metadata": {
        "colab": {
          "base_uri": "https://localhost:8080/"
        },
        "id": "BWxTy8wLilqZ",
        "outputId": "c915ed31-0f3c-4f2a-f3fa-dcb6673c7036"
      },
      "outputs": [
        {
          "data": {
            "text/plain": [
              "array([1, 0, 1, 1, 1, 1, 0, 1, 1, 0, 1, 1, 0, 0, 0, 0, 1, 1, 1, 1, 0, 1,\n",
              "       0, 0, 0, 1, 1, 0, 1, 1, 0, 1, 0, 1, 0, 1, 0, 0, 0, 0, 0, 0, 1, 0,\n",
              "       1, 0, 1, 0, 0, 0, 0, 1, 0, 0, 0, 1, 0, 1, 1, 1, 1, 1, 1, 0])"
            ]
          },
          "execution_count": 26,
          "metadata": {},
          "output_type": "execute_result"
        }
      ],
      "source": [
        "label = test_images[1].numpy()\n",
        "\n",
        "label"
      ]
    },
    {
      "cell_type": "code",
      "execution_count": 27,
      "metadata": {
        "colab": {
          "base_uri": "https://localhost:8080/",
          "height": 465
        },
        "id": "S1eNDpN2jMxR",
        "outputId": "6656f235-08fa-4fdd-f0c0-ea4e9ce1b6b6"
      },
      "outputs": [
        {
          "data": {
            "image/png": "[encoded data removed]",
            "text/plain": [
              "<Figure size 640x480 with 2 Axes>"
            ]
          },
          "metadata": {},
          "output_type": "display_data"
        }
      ],
      "source": [
        "from Confuplot import Confuplot\n",
        "\n",
        "Confuplot(label=label, logits=logits, labeler=labeler, cmap=\"Pastel1\", fmt=\"g\")"
      ]
    },
    {
      "cell_type": "markdown",
      "metadata": {
        "id": "9jickS6BI-Zq"
      },
      "source": [
        "### TensorFlow Serving\n",
        "\n",
        "Deploy Model to TensorFlow Serving & Perform Modification on Last Layer\n",
        "\n",
        "Modification is Perform to Auto Label our Binary Classification Output"
      ]
    },
    {
      "cell_type": "code",
      "execution_count": 28,
      "metadata": {
        "id": "7PIItM1xjNU6"
      },
      "outputs": [],
      "source": [
        "# Create Outlabel Layer to Use in TensorFlow Serving\n",
        "\n",
        "class Outlabel(tf.keras.layers.Layer):\n",
        "  def __init__(self):\n",
        "    super(Outlabel, self).__init__()\n",
        "    self.label = labeler\n",
        "\n",
        "  def call(self, inputs):\n",
        "    tf.config.run_functions_eagerly(True)\n",
        "    logits = tf.cast(tf.round(inputs), tf.int32)\n",
        "    logits = tf.gather(self.label, logits)\n",
        "    return logits"
      ]
    },
    {
      "cell_type": "code",
      "execution_count": 29,
      "metadata": {
        "colab": {
          "base_uri": "https://localhost:8080/"
        },
        "id": "skyqEpHLjSQp",
        "outputId": "7fc24e7e-4da3-46fa-9954-766e4302df40"
      },
      "outputs": [
        {
          "data": {
            "text/plain": [
              "<KerasTensor shape=(None, 1), dtype=string, sparse=False, name=keras_tensor_89>"
            ]
          },
          "execution_count": 29,
          "metadata": {},
          "output_type": "execute_result"
        }
      ],
      "source": [
        "# Modular Model to TensorFlow Serving\n",
        "\n",
        "input_layer = model.input\n",
        "\n",
        "modular = model(input_layer)\n",
        "\n",
        "output_layer = Outlabel()(modular)\n",
        "\n",
        "modular_server = tf.keras.Model(input_layer, output_layer)\n",
        "\n",
        "modular_server.output"
      ]
    },
    {
      "cell_type": "code",
      "execution_count": 30,
      "metadata": {
        "colab": {
          "base_uri": "https://localhost:8080/"
        },
        "id": "o9wKa7EtlL-d",
        "outputId": "90e60a9a-87da-4e70-dd0e-f40ec29f6b65"
      },
      "outputs": [
        {
          "data": {
            "text/plain": [
              "<KerasTensor shape=(None, 160, 160, 3), dtype=float32, sparse=False, name=keras_tensor>"
            ]
          },
          "execution_count": 30,
          "metadata": {},
          "output_type": "execute_result"
        }
      ],
      "source": [
        "modular_server.input"
      ]
    },
    {
      "cell_type": "code",
      "execution_count": 31,
      "metadata": {
        "colab": {
          "base_uri": "https://localhost:8080/"
        },
        "id": "ZL0KHh7MlOK0",
        "outputId": "405bfe95-adb6-4f87-80e9-faf9848c913c"
      },
      "outputs": [
        {
          "data": {
            "text/plain": [
              "<KerasTensor shape=(None, 160, 160, 3), dtype=float32, sparse=False, name=keras_tensor>"
            ]
          },
          "execution_count": 31,
          "metadata": {},
          "output_type": "execute_result"
        }
      ],
      "source": [
        "model.input"
      ]
    },
    {
      "cell_type": "code",
      "execution_count": 32,
      "metadata": {
        "colab": {
          "base_uri": "https://localhost:8080/"
        },
        "id": "xGUj4E4rjWSp",
        "outputId": "4ed62093-29c1-48f4-f553-a2dce4d27110"
      },
      "outputs": [
        {
          "data": {
            "text/plain": [
              "array([[b'Dog'],\n",
              "       [b'Cat'],\n",
              "       [b'Dog']], dtype=object)"
            ]
          },
          "execution_count": 32,
          "metadata": {},
          "output_type": "execute_result"
        }
      ],
      "source": [
        "import warnings\n",
        "\n",
        "warnings.filterwarnings(\"ignore\")\n",
        "\n",
        "tester = modular_server.predict(test_images[0], verbose=False)\n",
        "\n",
        "tester[:3]"
      ]
    },
    {
      "cell_type": "code",
      "execution_count": null,
      "metadata": {
        "id": "6TAgDrPajXUq"
      },
      "outputs": [],
      "source": [
        "ModelFolder = \"/content/ModelServer\"\n",
        "\n",
        "ModelSerial = \"1\"\n",
        "\n",
        "ModuleFolder = os.path.join(ModelFolder, ModelSerial)\n",
        "\n",
        "modular_server.export(ModuleFolder)"
      ]
    },
    {
      "cell_type": "code",
      "execution_count": 34,
      "metadata": {
        "id": "e3BlF3W7jd5A"
      },
      "outputs": [],
      "source": [
        "os.environ[\"ModelFolder\"] = ModelFolder"
      ]
    },
    {
      "cell_type": "code",
      "execution_count": null,
      "metadata": {
        "id": "713OgTz1jfFo"
      },
      "outputs": [],
      "source": [
        "!apt update\n",
        "\n",
        "!apt-get install tensorflow-model-server"
      ]
    },
    {
      "cell_type": "code",
      "execution_count": 36,
      "metadata": {
        "id": "AEn6VaYXjoDR"
      },
      "outputs": [],
      "source": [
        "%%bash --bg\n",
        "nohup tensorflow_model_server \\\n",
        "  --rest_api_port=8501 \\\n",
        "  --model_name=inter_model \\\n",
        "  --model_base_path=\"${ModelFolder}\" > server.log 2>&1"
      ]
    },
    {
      "cell_type": "code",
      "execution_count": 37,
      "metadata": {
        "id": "q1rwYUmDnYCL"
      },
      "outputs": [],
      "source": [
        "!tail server.log"
      ]
    },
    {
      "cell_type": "code",
      "execution_count": 38,
      "metadata": {
        "id": "WYOzDfIHnb96"
      },
      "outputs": [],
      "source": [
        "import json, requests\n",
        "\n",
        "test_img, test_label = next(iter(valid))\n",
        "\n",
        "test_img = test_img.numpy().tolist()\n",
        "\n",
        "url = \"http://127.0.0.1:8501/v1/models/inter_model:predict\""
      ]
    },
    {
      "cell_type": "code",
      "execution_count": 39,
      "metadata": {
        "colab": {
          "base_uri": "https://localhost:8080/"
        },
        "id": "hr4b2ITBne3k",
        "outputId": "47e0a2cc-f9df-4f8a-c164-b10bfbae6037"
      },
      "outputs": [
        {
          "data": {
            "text/plain": [
              "[['Cat'], ['Dog'], ['Dog'], ['Cat'], ['Cat']]"
            ]
          },
          "execution_count": 39,
          "metadata": {},
          "output_type": "execute_result"
        }
      ],
      "source": [
        "image = json.dumps({\"signature_name\":\"serving_default\", \"instances\":test_img})\n",
        "\n",
        "content = {\"content-type\":\"application/json\"}\n",
        "\n",
        "response = requests.post(url, data=image, headers=content)\n",
        "\n",
        "loader = json.loads(response.text)\n",
        "\n",
        "result = loader[\"predictions\"]\n",
        "\n",
        "result[:5]"
      ]
    }
  ],
  "metadata": {
    "accelerator": "GPU",
    "colab": {
      "gpuType": "T4",
      "provenance": []
    },
    "kernelspec": {
      "display_name": "Python 3",
      "name": "python3"
    },
    "language_info": {
      "name": "python"
    }
  },
  "nbformat": 4,
  "nbformat_minor": 0
}
